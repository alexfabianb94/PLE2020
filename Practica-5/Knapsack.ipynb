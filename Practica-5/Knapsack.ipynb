{
 "cells": [
  {
   "cell_type": "code",
   "execution_count": 35,
   "metadata": {},
   "outputs": [],
   "source": [
    "import gurobipy as gp\n",
    "import numpy as np\n",
    "\n",
    "np.random.seed(10)"
   ]
  },
  {
   "cell_type": "code",
   "execution_count": 48,
   "metadata": {},
   "outputs": [],
   "source": [
    "items = range(n)\n",
    "v = np.random.randint(1,100,n)\n",
    "w = np.random.randint(1,100,n)\n",
    "W = 0.6 * (np.sum(w))"
   ]
  },
  {
   "cell_type": "code",
   "execution_count": 66,
   "metadata": {},
   "outputs": [
    {
     "name": "stdout",
     "output_type": "stream",
     "text": [
      "Gurobi Optimizer version 9.0.2 build v9.0.2rc0 (linux64)\n",
      "Optimize a model with 1 rows, 10 columns and 10 nonzeros\n",
      "Model fingerprint: 0xca83986c\n",
      "Variable types: 0 continuous, 10 integer (10 binary)\n",
      "Coefficient statistics:\n",
      "  Matrix range     [1e+01, 9e+01]\n",
      "  Objective range  [1e+01, 9e+01]\n",
      "  Bounds range     [1e+00, 1e+00]\n",
      "  RHS range        [2e+02, 2e+02]\n",
      ":)\n",
      "Found heuristic solution: objective 305.0000000\n",
      "Presolve removed 1 rows and 10 columns\n",
      "Presolve time: 0.00s\n",
      "Presolve: All rows and columns removed\n",
      ":)\n",
      "\n",
      "Explored 0 nodes (0 simplex iterations) in 0.02 seconds\n",
      "Thread count was 1 (of 4 available processors)\n",
      "\n",
      "Solution count 2: 444 \n",
      "\n",
      "Optimal solution found (tolerance 1.00e-04)\n",
      "Best objective 4.440000000000e+02, best bound 4.440000000000e+02, gap 0.0000%\n",
      "\n",
      "User-callback calls 31, time in user-callback 0.00 sec\n"
     ]
    },
    {
     "data": {
      "text/plain": [
       "{0: 1.0,\n",
       " 1: 1.0,\n",
       " 2: 0.0,\n",
       " 3: 1.0,\n",
       " 4: 1.0,\n",
       " 5: 1.0,\n",
       " 6: 0.0,\n",
       " 7: 0.0,\n",
       " 8: 1.0,\n",
       " 9: 1.0}"
      ]
     },
     "execution_count": 66,
     "metadata": {},
     "output_type": "execute_result"
    }
   ],
   "source": [
    "n = 10\n",
    "m = gp.Model('Knapsack')\n",
    "\n",
    "x = m.addVars(items, vtype=gp.GRB.BINARY, name = 'x')\n",
    "    \n",
    "m.setObjective(gp.quicksum(v[i] * x[i] for i in items), gp.GRB.MAXIMIZE)\n",
    "m.addConstr(gp.quicksum(w[i] * x[i] for i in items) <= W)\n",
    "\n",
    "m.optimize(mycallback)\n",
    "m.getAttr('x', x)"
   ]
  },
  {
   "cell_type": "code",
   "execution_count": 65,
   "metadata": {},
   "outputs": [],
   "source": [
    "def mycallback(model, where): \n",
    "    if where == gp.GRB.Callback.MIPSOL:\n",
    "        print(':)')"
   ]
  },
  {
   "cell_type": "code",
   "execution_count": 75,
   "metadata": {},
   "outputs": [
    {
     "name": "stdout",
     "output_type": "stream",
     "text": [
      "Read MPS format model from file modelo.mps\n",
      "Reading time = 0.00 seconds\n",
      "modelo: 1 rows, 10 columns, 10 nonzeros\n",
      "Gurobi Optimizer version 9.0.2 build v9.0.2rc0 (linux64)\n",
      "Optimize a model with 1 rows, 10 columns and 10 nonzeros\n",
      "Model fingerprint: 0xf4bf3309\n",
      "Variable types: 0 continuous, 10 integer (0 binary)\n",
      "Coefficient statistics:\n",
      "  Matrix range     [3e+00, 1e+02]\n",
      "  Objective range  [1e+01, 1e+02]\n",
      "  Bounds range     [1e+00, 1e+00]\n",
      "  RHS range        [3e+02, 3e+02]\n",
      "Found heuristic solution: objective -436.0000000\n",
      "Presolve removed 1 rows and 10 columns\n",
      "Presolve time: 0.00s\n",
      "Presolve: All rows and columns removed\n",
      "\n",
      "Explored 0 nodes (0 simplex iterations) in 0.01 seconds\n",
      "Thread count was 1 (of 4 available processors)\n",
      "\n",
      "Solution count 2: -482 \n",
      "No other solutions better than -482\n",
      "\n",
      "Optimal solution found (tolerance 1.00e-04)\n",
      "Best objective -4.820000000000e+02, best bound -4.820000000000e+02, gap 0.0000%\n"
     ]
    }
   ],
   "source": [
    "m2 = gp.read('modelo.mps')\n",
    "m2.optimize()\n",
    "m2.write('solution.sol')"
   ]
  }
 ],
 "metadata": {
  "kernelspec": {
   "display_name": "Python 3",
   "language": "python",
   "name": "python3"
  },
  "language_info": {
   "codemirror_mode": {
    "name": "ipython",
    "version": 3
   },
   "file_extension": ".py",
   "mimetype": "text/x-python",
   "name": "python",
   "nbconvert_exporter": "python",
   "pygments_lexer": "ipython3",
   "version": "3.8.5"
  }
 },
 "nbformat": 4,
 "nbformat_minor": 4
}
