{
 "cells": [
  {
   "cell_type": "code",
   "execution_count": 1,
   "metadata": {},
   "outputs": [],
   "source": [
    "import gurobipy as gp\n",
    "import numpy as np"
   ]
  },
  {
   "cell_type": "code",
   "execution_count": 2,
   "metadata": {},
   "outputs": [],
   "source": [
    "np.random.seed(10)\n",
    "\n",
    "n = 10\n",
    "\n",
    "items = range(n)\n",
    "v = np.random.randint(1,100,n)\n",
    "w = np.random.randint(1,100,n)\n",
    "W = 0.6 * (np.sum(w))"
   ]
  },
  {
   "cell_type": "code",
   "execution_count": 3,
   "metadata": {},
   "outputs": [
    {
     "name": "stdout",
     "output_type": "stream",
     "text": [
      "Using license file /home/alexfabianb94/gurobi.lic\n",
      "Academic license - for non-commercial use only\n",
      "Gurobi Optimizer version 9.0.2 build v9.0.2rc0 (linux64)\n",
      "Optimize a model with 1 rows, 10 columns and 10 nonzeros\n",
      "Model fingerprint: 0x45fcd636\n",
      "Variable types: 0 continuous, 10 integer (10 binary)\n",
      "Coefficient statistics:\n",
      "  Matrix range     [1e+01, 9e+01]\n",
      "  Objective range  [1e+00, 9e+01]\n",
      "  Bounds range     [1e+00, 1e+00]\n",
      "  RHS range        [3e+02, 3e+02]\n",
      ":)\n",
      "Found heuristic solution: objective 313.0000000\n",
      "Presolve removed 1 rows and 10 columns\n",
      "Presolve time: 0.00s\n",
      "Presolve: All rows and columns removed\n",
      ":)\n",
      "\n",
      "Explored 0 nodes (0 simplex iterations) in 0.02 seconds\n",
      "Thread count was 1 (of 4 available processors)\n",
      "\n",
      "Solution count 2: 368 \n",
      "\n",
      "Optimal solution found (tolerance 1.00e-04)\n",
      "Best objective 3.680000000000e+02, best bound 3.680000000000e+02, gap 0.0000%\n",
      "\n",
      "User-callback calls 31, time in user-callback 0.00 sec\n"
     ]
    },
    {
     "data": {
      "text/plain": [
       "{0: 0.0,\n",
       " 1: 1.0,\n",
       " 2: 1.0,\n",
       " 3: 1.0,\n",
       " 4: 1.0,\n",
       " 5: 1.0,\n",
       " 6: 0.0,\n",
       " 7: 0.0,\n",
       " 8: 1.0,\n",
       " 9: 0.0}"
      ]
     },
     "execution_count": 3,
     "metadata": {},
     "output_type": "execute_result"
    }
   ],
   "source": [
    "def mycallback(model, where): \n",
    "    if where == gp.GRB.Callback.MIPSOL:\n",
    "        print(':)')\n",
    "\n",
    "m = gp.Model('Knapsack')\n",
    "\n",
    "x = m.addVars(items, vtype=gp.GRB.BINARY, name = 'x')\n",
    "m.setObjective(gp.quicksum(v[i] * x[i] for i in items), gp.GRB.MAXIMIZE)\n",
    "m.addConstr(gp.quicksum(w[i] * x[i] for i in items) <= W)\n",
    "\n",
    "m.optimize(mycallback)\n",
    "m.getAttr('x', x)"
   ]
  },
  {
   "cell_type": "code",
   "execution_count": 4,
   "metadata": {},
   "outputs": [
    {
     "name": "stdout",
     "output_type": "stream",
     "text": [
      "Read MPS format model from file modelo_ampl.mps\n",
      "Reading time = 0.00 seconds\n",
      "modelo_a: 1 rows, 10 columns, 10 nonzeros\n",
      "Gurobi Optimizer version 9.0.2 build v9.0.2rc0 (linux64)\n",
      "Optimize a model with 1 rows, 10 columns and 10 nonzeros\n",
      "Model fingerprint: 0x64c836d0\n",
      "Variable types: 0 continuous, 10 integer (0 binary)\n",
      "Coefficient statistics:\n",
      "  Matrix range     [3e+00, 1e+02]\n",
      "  Objective range  [1e+01, 1e+02]\n",
      "  Bounds range     [1e+00, 1e+00]\n",
      "  RHS range        [3e+02, 3e+02]\n",
      "Found heuristic solution: objective 0.0000000\n",
      "\n",
      "Explored 0 nodes (0 simplex iterations) in 0.01 seconds\n",
      "Thread count was 1 (of 4 available processors)\n",
      "\n",
      "Solution count 1: 0 \n",
      "\n",
      "Optimal solution found (tolerance 1.00e-04)\n",
      "Best objective 0.000000000000e+00, best bound 0.000000000000e+00, gap 0.0000%\n"
     ]
    }
   ],
   "source": [
    "m2 = gp.read('modelo_ampl.mps')\n",
    "m2.optimize()\n",
    "m2.write('solution.sol')"
   ]
  }
 ],
 "metadata": {
  "kernelspec": {
   "display_name": "Python 3",
   "language": "python",
   "name": "python3"
  },
  "language_info": {
   "codemirror_mode": {
    "name": "ipython",
    "version": 3
   },
   "file_extension": ".py",
   "mimetype": "text/x-python",
   "name": "python",
   "nbconvert_exporter": "python",
   "pygments_lexer": "ipython3",
   "version": "3.8.5"
  }
 },
 "nbformat": 4,
 "nbformat_minor": 4
}
