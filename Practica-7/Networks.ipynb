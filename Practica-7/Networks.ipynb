{
 "cells": [
  {
   "cell_type": "code",
   "execution_count": 1,
   "metadata": {},
   "outputs": [],
   "source": [
    "import gurobipy as gp\n",
    "import numpy as np\n",
    "from collections import namedtuple\n",
    "import networkx as nx"
   ]
  },
  {
   "cell_type": "code",
   "execution_count": 2,
   "metadata": {},
   "outputs": [],
   "source": [
    "def plot_graph(nodes, arcs):\n",
    "    G = nx.Graph()\n",
    "    ni = [(n1.id, {'pos': (n1.x, n1.y), 'label': '${}$'.format(n1.id)}) for n1 in nodes]\n",
    "    G.add_nodes_from(ni)\n",
    "    G.add_edges_from(arcs)\n",
    "    pos = nx.get_node_attributes(G,'pos')\n",
    "    label = nx.get_node_attributes(G,'label')\n",
    "    nx.draw(G,pos)\n",
    "    nx.draw_networkx_labels(G,pos,label)"
   ]
  },
  {
   "cell_type": "code",
   "execution_count": 3,
   "metadata": {},
   "outputs": [],
   "source": [
    "Node = namedtuple('Node', ['id', 'x', 'y'])\n",
    "\n",
    "def distances(n1,n2):\n",
    "    return np.sqrt((n1.x - n2.x)**2 + (n1.y - n2.y)**2)"
   ]
  },
  {
   "cell_type": "code",
   "execution_count": 4,
   "metadata": {},
   "outputs": [],
   "source": [
    "\n",
    "n = 10\n",
    "N = range(n)\n",
    "A = [(i,j) for i in N for j in N if i != j]\n",
    "nodes = [Node(i,np.random.randint(-100,100), np.random.randint(-100,100)) for i in N]\n",
    "\n",
    "c = {(i.id,j.id): distances(i,j)  for i in nodes for j in nodes if i.id != j.id}"
   ]
  },
  {
   "cell_type": "code",
   "execution_count": 5,
   "metadata": {},
   "outputs": [
    {
     "name": "stdout",
     "output_type": "stream",
     "text": [
      "Using license file /home/alexfabianb94/gurobi.lic\n",
      "Academic license - for non-commercial use only - expires 2021-01-26\n",
      "Gurobi Optimizer version 9.1.0 build v9.1.0rc0 (linux64)\n",
      "Thread count: 2 physical cores, 4 logical processors, using up to 4 threads\n",
      "Optimize a model with 10 rows, 24 columns and 48 nonzeros\n",
      "Model fingerprint: 0x345013d7\n",
      "Variable types: 0 continuous, 24 integer (24 binary)\n",
      "Coefficient statistics:\n",
      "  Matrix range     [1e+00, 1e+00]\n",
      "  Objective range  [2e+01, 2e+02]\n",
      "  Bounds range     [1e+00, 1e+00]\n",
      "  RHS range        [1e+00, 1e+00]\n",
      "Found heuristic solution: objective 537.4834110\n",
      "Presolve removed 2 rows and 4 columns\n",
      "Presolve time: 0.00s\n",
      "Presolved: 8 rows, 20 columns, 40 nonzeros\n",
      "Variable types: 0 continuous, 20 integer (20 binary)\n",
      "\n",
      "Root relaxation: objective 2.222040e+02, 3 iterations, 0.00 seconds\n",
      "\n",
      "    Nodes    |    Current Node    |     Objective Bounds      |     Work\n",
      " Expl Unexpl |  Obj  Depth IntInf | Incumbent    BestBd   Gap | It/Node Time\n",
      "\n",
      "*    0     0               0     222.2039721  222.20397  0.00%     -    0s\n",
      "\n",
      "Explored 0 nodes (3 simplex iterations) in 0.03 seconds\n",
      "Thread count was 4 (of 4 available processors)\n",
      "\n",
      "Solution count 2: 222.204 537.483 \n",
      "\n",
      "Optimal solution found (tolerance 1.00e-04)\n",
      "Best objective 2.222039721303e+02, best bound 2.222039721303e+02, gap 0.0000%\n"
     ]
    },
    {
     "data": {
      "image/png": "[encoded data removed]",
      "text/plain": [
       "<Figure size 432x288 with 1 Axes>"
      ]
     },
     "metadata": {},
     "output_type": "display_data"
    }
   ],
   "source": [
    "s = 0\n",
    "t = n - 1\n",
    "\n",
    "A = [(i,j) for i in N for j in N if i != j and j != s and i != t and np.random.rand() < 0.3]\n",
    "\n",
    "m1 = gp.Model('RMC')\n",
    "\n",
    "x = m1.addVars(A, vtype = gp.GRB.BINARY, name='x', obj=c)\n",
    "# m1.addConstr(gp.quicksum((x[s,j] for j in N if (s,j) in A)) == 1)\n",
    "# m1.addConstr(gp.quicksum((x[i,t] for i in N if (i,t) in A)) == 1)\n",
    "\n",
    "m1.addConstr(x.sum(s,'*') == 1, name='r1')\n",
    "m1.addConstr(x.sum('*',t) == 1, name='r2')\n",
    "m1.addConstrs((x.sum('*',j) == x.sum(j,'*') for j in N if j != s and j != t), name='r3')\n",
    "\n",
    "m1.write('RMC.lp')\n",
    "m1.optimize()\n",
    "values = m1.getAttr('x',x)\n",
    "sol = [ (i,j) for i,j in values if values[i,j] > 0.5]\n",
    "\n",
    "plot_graph(nodes, sol)"
   ]
  },
  {
   "cell_type": "code",
   "execution_count": 6,
   "metadata": {},
   "outputs": [
    {
     "name": "stdout",
     "output_type": "stream",
     "text": [
      "Gurobi Optimizer version 9.1.0 build v9.1.0rc0 (linux64)\n",
      "Thread count: 2 physical cores, 4 logical processors, using up to 4 threads\n",
      "Optimize a model with 109 rows, 180 columns and 432 nonzeros\n",
      "Model fingerprint: 0xd23daa13\n",
      "Variable types: 0 continuous, 180 integer (90 binary)\n",
      "Coefficient statistics:\n",
      "  Matrix range     [1e+00, 1e+01]\n",
      "  Objective range  [2e+01, 2e+02]\n",
      "  Bounds range     [1e+00, 1e+00]\n",
      "  RHS range        [1e+00, 9e+00]\n",
      "Presolve removed 9 rows and 9 columns\n",
      "Presolve time: 0.00s\n",
      "Presolved: 100 rows, 171 columns, 414 nonzeros\n",
      "Variable types: 0 continuous, 171 integer (81 binary)\n",
      "Found heuristic solution: objective 1076.2820024\n",
      "Found heuristic solution: objective 883.6819810\n",
      "Found heuristic solution: objective 788.8395112\n",
      "\n",
      "Root relaxation: objective 3.801502e+02, 75 iterations, 0.00 seconds\n",
      "\n",
      "    Nodes    |    Current Node    |     Objective Bounds      |     Work\n",
      " Expl Unexpl |  Obj  Depth IntInf | Incumbent    BestBd   Gap | It/Node Time\n",
      "\n",
      "     0     0  380.15023    0    6  788.83951  380.15023  51.8%     -    0s\n",
      "H    0     0                     673.6611614  380.15023  43.6%     -    0s\n",
      "H    0     0                     619.2969739  380.15023  38.6%     -    0s\n",
      "H    0     0                     523.7917363  380.15023  27.4%     -    0s\n",
      "     0     0  417.92920    0   15  523.79174  417.92920  20.2%     -    0s\n",
      "     0     0  418.26668    0   10  523.79174  418.26668  20.1%     -    0s\n",
      "     0     0  483.54571    0   14  523.79174  483.54571  7.68%     -    0s\n",
      "     0     0  483.71134    0   20  523.79174  483.71134  7.65%     -    0s\n",
      "*    0     0               0     490.3166939  490.31669  0.00%     -    0s\n",
      "\n",
      "Cutting planes:\n",
      "  Gomory: 5\n",
      "  Cover: 2\n",
      "  Implied bound: 9\n",
      "  MIR: 17\n",
      "  StrongCG: 3\n",
      "  Flow cover: 9\n",
      "  Flow path: 1\n",
      "  Mod-K: 2\n",
      "  Relax-and-lift: 4\n",
      "\n",
      "Explored 1 nodes (207 simplex iterations) in 0.11 seconds\n",
      "Thread count was 4 (of 4 available processors)\n",
      "\n",
      "Solution count 7: 490.317 523.792 619.297 ... 1076.28\n",
      "\n",
      "Optimal solution found (tolerance 1.00e-04)\n",
      "Best objective 4.903166939419e+02, best bound 4.903166939419e+02, gap 0.0000%\n"
     ]
    },
    {
     "data": {
      "image/png": "[encoded data removed]",
      "text/plain": [
       "<Figure size 432x288 with 1 Axes>"
      ]
     },
     "metadata": {},
     "output_type": "display_data"
    }
   ],
   "source": [
    "A = [(i,j) for i in N for j in N if i != j]\n",
    "m2 = gp.Model('MST')\n",
    "\n",
    "s = 0\n",
    "\n",
    "x = m2.addVars(A, vtype = gp.GRB.BINARY, name='x', obj=c)\n",
    "f = m2.addVars(A, vtype = gp.GRB.INTEGER, name='f')\n",
    "\n",
    "m2.addConstr(f.sum(s,'*') == n - 1, name='r1')\n",
    "m2.addConstrs((f[i,j] <= n*x[i,j]  for i,j in A), name='r2')\n",
    "m2.addConstrs((f.sum('*',j) - 1 == f.sum(j,'*')   for j in N if j != s), name='r3')\n",
    "m2.addConstrs((x.sum('*',j) == 1  for j in N if j != s), name='r4')\n",
    "m2.write('MST.lp')\n",
    "m2.optimize()\n",
    "values = m2.getAttr('x', x)\n",
    "sol = [ (i,j) for i,j in values if values[i,j] > 0.5]\n",
    "\n",
    "plot_graph(nodes, sol)"
   ]
  },
  {
   "cell_type": "code",
   "execution_count": 7,
   "metadata": {},
   "outputs": [
    {
     "name": "stdout",
     "output_type": "stream",
     "text": [
      "Gurobi Optimizer version 9.1.0 build v9.1.0rc0 (linux64)\n",
      "Thread count: 2 physical cores, 4 logical processors, using up to 4 threads\n",
      "Optimize a model with 111 rows, 110 columns and 310 nonzeros\n",
      "Model fingerprint: 0x33a1b072\n",
      "Variable types: 0 continuous, 110 integer (110 binary)\n",
      "Coefficient statistics:\n",
      "  Matrix range     [1e+00, 1e+00]\n",
      "  Objective range  [2e+01, 2e+02]\n",
      "  Bounds range     [1e+00, 1e+00]\n",
      "  RHS range        [1e+00, 3e+00]\n",
      "Found heuristic solution: objective 950.2677901\n",
      "Presolve time: 0.00s\n",
      "Presolved: 111 rows, 110 columns, 310 nonzeros\n",
      "Variable types: 0 continuous, 110 integer (110 binary)\n",
      "\n",
      "Root relaxation: objective 4.034240e+02, 54 iterations, 0.00 seconds\n",
      "\n",
      "    Nodes    |    Current Node    |     Objective Bounds      |     Work\n",
      " Expl Unexpl |  Obj  Depth IntInf | Incumbent    BestBd   Gap | It/Node Time\n",
      "\n",
      "*    0     0               0     403.4239507  403.42395  0.00%     -    0s\n",
      "\n",
      "Explored 0 nodes (54 simplex iterations) in 0.04 seconds\n",
      "Thread count was 4 (of 4 available processors)\n",
      "\n",
      "Solution count 2: 403.424 950.268 \n",
      "\n",
      "Optimal solution found (tolerance 1.00e-04)\n",
      "Best objective 4.034239507182e+02, best bound 4.034239507182e+02, gap 0.0000%\n"
     ]
    },
    {
     "data": {
      "image/png": "[encoded data removed]",
      "text/plain": [
       "<Figure size 432x288 with 1 Axes>"
      ]
     },
     "metadata": {},
     "output_type": "display_data"
    }
   ],
   "source": [
    "A = [(i,j) for i in N for j in N]\n",
    "p = 3\n",
    "\n",
    "m3 = gp.Model('p-median')\n",
    "\n",
    "x = m3.addVars(A, vtype = gp.GRB.BINARY, name='x', obj=c)\n",
    "y = m3.addVars(N, vtype = gp.GRB.BINARY, name='y')\n",
    "\n",
    "m3.addConstrs((x.sum(i,'*') == 1 for i in N), name='r1')\n",
    "m3.addConstr(y.sum('*') == p, name='r2')\n",
    "m3.addConstrs((x[i,j] <= y[j] for i,j in A), name='r1')\n",
    "\n",
    "m3.write('p-median.lp')\n",
    "m3.optimize()\n",
    "values = m3.getAttr('x', x)\n",
    "sol = [ (i,j) for i,j in values if values[i,j] > 0.5]\n",
    "\n",
    "plot_graph(nodes, sol)"
   ]
  },
  {
   "cell_type": "code",
   "execution_count": 8,
   "metadata": {},
   "outputs": [
    {
     "name": "stdout",
     "output_type": "stream",
     "text": [
      "Gurobi Optimizer version 9.1.0 build v9.1.0rc0 (linux64)\n",
      "Thread count: 2 physical cores, 4 logical processors, using up to 4 threads\n",
      "Optimize a model with 11 rows, 20 columns and 36 nonzeros\n",
      "Model fingerprint: 0xaa21f72f\n",
      "Variable types: 0 continuous, 20 integer (20 binary)\n",
      "Coefficient statistics:\n",
      "  Matrix range     [1e+00, 1e+00]\n",
      "  Objective range  [1e+00, 1e+00]\n",
      "  Bounds range     [1e+00, 1e+00]\n",
      "  RHS range        [3e+00, 3e+00]\n",
      "Found heuristic solution: objective 5.0000000\n",
      "Presolve removed 11 rows and 20 columns\n",
      "Presolve time: 0.00s\n",
      "Presolve: All rows and columns removed\n",
      "\n",
      "Explored 0 nodes (0 simplex iterations) in 0.03 seconds\n",
      "Thread count was 1 (of 4 available processors)\n",
      "\n",
      "Solution count 2: 6 \n",
      "\n",
      "Optimal solution found (tolerance 1.00e-04)\n",
      "Best objective 6.000000000000e+00, best bound 6.000000000000e+00, gap 0.0000%\n",
      "[1, 3, 4, 6, 7, 9] [1, 4, 6]\n"
     ]
    },
    {
     "data": {
      "image/png": "[encoded data removed]",
      "text/plain": [
       "<Figure size 432x288 with 1 Axes>"
      ]
     },
     "metadata": {},
     "output_type": "display_data"
    }
   ],
   "source": [
    "m4 = gp.Model('max-covering')\n",
    "c = {(i.id,j.id): distances(i,j)  for i in nodes for j in nodes}\n",
    "\n",
    "p = 3\n",
    "S = 50\n",
    "A = [(i,j) for i in N for j in N if c[i,j] <= S]\n",
    "\n",
    "x = m4.addVars(N, vtype = gp.GRB.BINARY, name='x')\n",
    "y = m4.addVars(N, vtype = gp.GRB.BINARY, name='y')\n",
    "\n",
    "m4.setObjective(x.sum('*'), gp.GRB.MAXIMIZE)\n",
    "\n",
    "m4.write('max-covering.lp')\n",
    "\n",
    "m4.addConstr(y.sum('*') == p, name='r1')\n",
    "m4.addConstrs((x[i] == gp.quicksum(y[j] for h,j in A if h == i) for i in N), name='r2')\n",
    "\n",
    "m4.optimize()\n",
    "values_y = m4.getAttr('x', y)\n",
    "values_x = m4.getAttr('x', x)\n",
    "sol_y = [ i for i in values_y if values_y[i] > 0.5]\n",
    "sol_x = [ i for i in values_x if values_x[i] > 0.5]\n",
    "print(sol_x, sol_y)\n",
    "plot_graph(nodes,A)"
   ]
  },
  {
   "cell_type": "code",
   "execution_count": 9,
   "metadata": {},
   "outputs": [
    {
     "name": "stdout",
     "output_type": "stream",
     "text": [
      "Gurobi Optimizer version 9.1.0 build v9.1.0rc0 (linux64)\n",
      "Thread count: 2 physical cores, 4 logical processors, using up to 4 threads\n",
      "Optimize a model with 10 rows, 10 columns and 16 nonzeros\n",
      "Model fingerprint: 0x6fe81383\n",
      "Variable types: 0 continuous, 10 integer (10 binary)\n",
      "Coefficient statistics:\n",
      "  Matrix range     [1e+00, 1e+00]\n",
      "  Objective range  [1e+00, 1e+00]\n",
      "  Bounds range     [1e+00, 1e+00]\n",
      "  RHS range        [1e+00, 1e+00]\n",
      "Found heuristic solution: objective 7.0000000\n",
      "Presolve removed 10 rows and 10 columns\n",
      "Presolve time: 0.00s\n",
      "Presolve: All rows and columns removed\n",
      "\n",
      "Explored 0 nodes (0 simplex iterations) in 0.02 seconds\n",
      "Thread count was 1 (of 4 available processors)\n",
      "\n",
      "Solution count 1: 7 \n",
      "\n",
      "Optimal solution found (tolerance 1.00e-04)\n",
      "Best objective 7.000000000000e+00, best bound 7.000000000000e+00, gap 0.0000%\n",
      "[0, 2, 3, 5, 7, 8, 9]\n"
     ]
    },
    {
     "data": {
      "image/png": "[encoded data removed]",
      "text/plain": [
       "<Figure size 432x288 with 1 Axes>"
      ]
     },
     "metadata": {},
     "output_type": "display_data"
    }
   ],
   "source": [
    "m5 = gp.Model('set-covering')\n",
    "c = {(i.id,j.id): distances(i,j)  for i in nodes for j in nodes}\n",
    "\n",
    "p = 3\n",
    "S = 50\n",
    "A = [(i,j) for i in N for j in N if c[i,j] <= S]\n",
    "\n",
    "y = m5.addVars(N, vtype = gp.GRB.BINARY, name='y')\n",
    "\n",
    "m5.setObjective(y.sum('*'))\n",
    "\n",
    "m5.addConstrs(( gp.quicksum(y[j] for h,j in A if h == i) >= 1 for i in N), name='r1')\n",
    "m5.write('set-covering.lp')\n",
    "m5.optimize()\n",
    "values = m5.getAttr('x', y)\n",
    "sol = [ i for i in values if values[i] > 0.5]\n",
    "print(sol)\n",
    "plot_graph(nodes,A)"
   ]
  }
 ],
 "metadata": {
  "kernelspec": {
   "display_name": "Python 3",
   "language": "python",
   "name": "python3"
  },
  "language_info": {
   "codemirror_mode": {
    "name": "ipython",
    "version": 3
   },
   "file_extension": ".py",
   "mimetype": "text/x-python",
   "name": "python",
   "nbconvert_exporter": "python",
   "pygments_lexer": "ipython3",
   "version": "3.8.5"
  }
 },
 "nbformat": 4,
 "nbformat_minor": 4
}
