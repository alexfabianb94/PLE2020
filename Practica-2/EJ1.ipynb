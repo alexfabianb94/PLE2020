{
 "cells": [
  {
   "cell_type": "markdown",
   "metadata": {},
   "source": [
    "Una determinada empresa forestal puede producir $L$ productos distintos y tiene $I$ plantas productivas ubicadas en diferentes zonas, siendo $S_i^t$ la capacidad total de producción de la planta $i, (i=1,…,l)$ en el período $t, (t=1,…,T)$ sin importar de qué tipo de producto se trate, $T$ el número total de periodos. El tipo de producto $l$ tiene un costo de producción de $P_l$ sin importar la planta que lo fabrique ni el período en cuestión. Los productos son demandados por $J$ ciudades diferentes, siendo $D_{ijt}$ la demanda de la ciudad $j, (j=1,…,J)$ por el producto $l, (l=1,…,L)$, en el período $t, (t=1,…,T)$. Las demandas deben satisfechas período a período.\n",
    "\n",
    "Como no existe la posibilidad de almacenar producto en las plantas, la empresa está estudiando la posibilidad de arrendar bodegas ubicadas en diferentes puntos geográficos. El arriendo de las bodegas se hace período a período, esto quiere decir que, si se arrienda la bodega $k$ en el período $t$, no necesariamente la bodega $k$ debe haber estado arrendada el período $t-1$ o seguir arrendada para el período $t+1$. Hay $K$ posibles bodegas para arrendar. De esta manera, la producción de las plantas se llevará a las bodegas y desde allí se abastecerá a las ciudades. No existe inventario de productos, las bodegas sólo se utilizan para etiquetar los distintos artículos. Si se arrienda la bodega $k(k=1,…,K)$ se incurre en un gasto fijo F_{kt} pesos por el pago del arriendo en el período $t$. Ahora bien, si se arrienda una bodega por H períodos consecutivos se recibirá un reembolso de W pesos por cada secuencia de H periodos consecutivos. Por cada unidad del artículo l que ingresa a la bodega $k$ se gasta E_{tk} pesos por concepto de etiquetación. La capacidad de la bodega $k$ es de ${Q_k}$ unidades de producto sin importar su tipo.\n",
    "\n",
    "Además, se sabe que cada unidad debe ser abastecida desde una única bodega en cada período y también se sabe que la bodega $k$ puede despachar como mínimo al total de ciudades que abastezca la cantidad de $L_k$ y como máximo la cantidad de $U_k$ unidades de artículos (del total de artículos que despacha). Si la bodega despacha más de $U_k$ unidades de producto, se le debe pagar un bono extra a los empleados de esa bodega igual a $B_k$ pesos, fijo independiente de la magnitud del exceso. El costo de transporte del producto l desde la planta i a la bodega $k$ en el período t es de $M_{likt}$ pesos y el costo de transporte desde la bodega $k$ a la ciudad $j$ del producto $l$ en el período $t$ es de $N_lkjt$ pesos."
   ]
  },
  {
   "cell_type": "markdown",
   "metadata": {},
   "source": [
    "## Conjuntos\n",
    "\n",
    "\n",
    "\n",
    "$$\n",
    "%\\begin{array}{lll}\n",
    "%  \\min & x + y\\\\\n",
    "%  \\textrm{s.t.} & 2x + 3y \\ge 6\\\\\n",
    "%                & 4x + 2y \\ge 7\\\\\n",
    "%                & x,y \\ge 0\n",
    "%\\end{array}\n",
    "$$"
   ]
  }
 ],
 "metadata": {
  "kernelspec": {
   "display_name": "Python 3",
   "language": "python",
   "name": "python3"
  },
  "language_info": {
   "codemirror_mode": {
    "name": "ipython",
    "version": 3
   },
   "file_extension": ".py",
   "mimetype": "text/x-python",
   "name": "python",
   "nbconvert_exporter": "python",
   "pygments_lexer": "ipython3",
   "version": "3.8.2"
  }
 },
 "nbformat": 4,
 "nbformat_minor": 4
}
